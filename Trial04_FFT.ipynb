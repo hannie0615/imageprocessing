{
 "cells": [
  {
   "cell_type": "code",
   "execution_count": 6,
   "metadata": {},
   "outputs": [],
   "source": [
    "# 필요한 라이브러리를 iport \n",
    "\n",
    "import math\n",
    "import numpy as np\n",
    "import cv2\n",
    "import matplotlib.pyplot as plt\n",
    "import imutils"
   ]
  },
  {
   "cell_type": "markdown",
   "metadata": {},
   "source": [
    "## FFT: the better accuracy\n",
    "\n",
    "+ image: Our input image for blur detection\n",
    "+ size: The size of the radius around the centerpoint of the image for which we will zero out the FFT shift\n",
    "+ thresh: A value which the mean value of the magnitudes (more on that later) will be compared to for determining whether an image is considered blurry or not blurry\n",
    "+ vis: A boolean indicating whether to visualize/plot the original input image and magnitude image using matplotlib"
   ]
  },
  {
   "cell_type": "code",
   "execution_count": 49,
   "metadata": {},
   "outputs": [],
   "source": [
    "def detect_blur(img, size=60, thresh=10, vis=False):\n",
    "    (h, w) = img.shape #height, width\n",
    "    (cX, cY) = (int(w / 2.0), int(h / 2.0))\n",
    "    \n",
    "    fft = np.fft.fft2(img) #coupute fft\n",
    "    fftShift = np.fft.fftshift(fft)\n",
    "    \n",
    "    if vis:\n",
    "        magnitude = 20*np.log(np.abs(fftShift))\n",
    "        \n",
    "        (fig, ax) = plt.subplots(1,2, )\n",
    "        ax[0].imshow(image, cmap = 'gray')\n",
    "        ax[0].set_title(\"input\")\n",
    "        ax[0].set_xticks([])\n",
    "        ax[0].set_yticks([])\n",
    "        \n",
    "        (fig, ax) = plt.subplots(1,2, )\n",
    "        ax[1].imshow(image, cmap = 'gray')\n",
    "        ax[1].set_title(\"Magnitude Spectrum\")\n",
    "        ax[1].set_xticks([])\n",
    "        ax[1].set_yticks([])\n",
    "        \n",
    "        plt.show()\n",
    "        \n",
    "    fftShift[cY - size:cY + size, cX - size:cX + size] = 0\n",
    "    fftShift = np.fft.ifftshift(fftShift)\n",
    "    recon = np.fft.ifft2(fftShift)\n",
    "    \n",
    "    magnitude = 20 * np.log(np.abs(recon))\n",
    "    mean = np.mean(magnitude)\n",
    "    \n",
    "    return (mean, mean <= thresh)"
   ]
  },
  {
   "cell_type": "code",
   "execution_count": 56,
   "metadata": {},
   "outputs": [
    {
     "name": "stdout",
     "output_type": "stream",
     "text": [
      "[INFO] Blurry (-3.6660)\n"
     ]
    },
    {
     "data": {
      "text/plain": [
       "-1"
      ]
     },
     "execution_count": 56,
     "metadata": {},
     "output_type": "execute_result"
    }
   ],
   "source": [
    "#image\n",
    "img = cv2.imread('out_of_focus0080.jpg')\n",
    "img = imutils.resize(img, width=500)\n",
    "gray = cv2.cvtColor(img, cv2.COLOR_BGR2GRAY)\n",
    "\n",
    "(mean, blurry) = detect_blur(gray, size=60, thresh=10, vis=False)\n",
    "image = np.dstack([gray]*3)\n",
    "\n",
    "color = (0, 0, 255) if blurry else (0,255,0)\n",
    "text = \"Blurry ({:.4f})\" if blurry else \"Not Blurry ({:.4f})\"\n",
    "\n",
    "text = text.format(mean)\n",
    "\n",
    "cv2.putText(image, text, (10, 25), cv2.FONT_HERSHEY_SIMPLEX, 0.7, color, 2)\n",
    "print(\"[INFO] {}\".format(text))\n",
    "\n",
    "cv2.imshow(\"Output\", image)\n",
    "cv2.waitKey(0)\n",
    "# cv2.DestroyAllWindows()"
   ]
  },
  {
   "cell_type": "code",
   "execution_count": 15,
   "metadata": {},
   "outputs": [
    {
     "name": "stdout",
     "output_type": "stream",
     "text": [
      "18.365471906119183 False\n"
     ]
    }
   ],
   "source": [
    "print(mean, blurry)"
   ]
  },
  {
   "cell_type": "code",
   "execution_count": null,
   "metadata": {},
   "outputs": [],
   "source": [
    "# check to see if are going to test our FFT blurriness detector using\n",
    "# various sizes of a Gaussian kernel\n",
    "if args[\"test\"] > 0:\n",
    "    \n",
    "    # loop over various blur radii\n",
    "    for radius in range(1, 30, 2):\n",
    "        \n",
    "        # clone the original grayscale image\n",
    "        image = gray.copy()\n",
    "        \n",
    "        # check to see if the kernel radius is greater than zero\n",
    "        if radius > 0:\n",
    "            \n",
    "            # blur the input image by the supplied radius using a\n",
    "            # Gaussian kernel\n",
    "            image = cv2.GaussianBlur(image, (radius, radius), 0)\n",
    "            # apply our blur detector using the FFT\n",
    "            (mean, blurry) = detect_blur_fft(image, size=60,\n",
    "                thresh=args[\"thresh\"], vis=args[\"vis\"] > 0)\n",
    "            # draw on the image, indicating whether or not it is blurry\n",
    "\n",
    "            image = np.dstack([image] * 3)\n",
    "            color = (0, 0, 255) if blurry else (0, 255, 0)\n",
    "            text = \"Blurry ({:.4f})\" if blurry else \"Not Blurry ({:.4f})\"\n",
    "            text = text.format(mean)\n",
    "            cv2.putText(image, text, (10, 25), cv2.FONT_HERSHEY_SIMPLEX, 0.7, color, 2)\n",
    "            print(\"[INFO] Kernel: {}, Result: {}\".format(radius, text))\n",
    "            \n",
    "        # show the image\n",
    "        cv2.imshow(\"Test Image\", image)\n",
    "        cv2.waitKey(0)"
   ]
  },
  {
   "cell_type": "code",
   "execution_count": null,
   "metadata": {},
   "outputs": [],
   "source": []
  },
  {
   "cell_type": "markdown",
   "metadata": {},
   "source": [
    "## 참고 -1\n",
    "반사광이 심할 때 주파수 필터를 이용하여 줄임."
   ]
  },
  {
   "cell_type": "code",
   "execution_count": 2,
   "metadata": {},
   "outputs": [],
   "source": [
    "# 반사광이 심할 때 줄여줌. 주파수 필터를 이용.\n",
    "\n",
    "### homomorphic filter는 gray scale image에 대해서 밖에 안 되므로\n",
    "### YUV color space로 converting한 뒤 Y에 대해 연산을 진행\n",
    "img = cv2.imread('out_of_focus0035.jpg')\n",
    "img_YUV = cv2.cvtColor(img, cv2.COLOR_BGR2YUV)  \n",
    "\n",
    "y = img_YUV[:,:,0]\n",
    "rows = y.shape[0]    \n",
    "cols = y.shape[1]\n",
    "\n",
    "### illumination elements와 reflectance elements를 분리하기 위해 log를 취함\n",
    "imgLog = np.log1p(np.array(y, dtype='float') / 255) # y값을 0~1사이로 조정한 뒤 log(x+1)\n",
    " \n",
    "### frequency를 이미지로 나타내면 4분면에 대칭적으로 나타나므로 \n",
    "### 4분면 중 하나에 이미지를 대응시키기 위해 row와 column을 2배씩 늘려줌\n",
    "M = 2*rows + 1\n",
    "N = 2*cols + 1\n",
    " \n",
    "### gaussian mask 생성 sigma = 10\n",
    "sigma = 10\n",
    "(X, Y) = np.meshgrid(np.linspace(0, N-1, N), np.linspace(0, M-1, M)) # 0~N-1(and M-1) 까지 1단위로 space를 만듬\n",
    "Xc = np.ceil(N/2) # 올림 연산\n",
    "Yc = np.ceil(M/2)\n",
    "gaussianNumerator = (X - Xc)**2 + (Y - Yc)**2 # 가우시안 분자 생성\n",
    "\n",
    "\n",
    "### low pass filter와 high pass filter 생성\n",
    "LPF = np.exp(-gaussianNumerator / (2*sigma*sigma))\n",
    "HPF = 1 - LPF\n",
    " \n",
    "### LPF랑 HPF를 0이 가운데로 오도록iFFT함. \n",
    "### 사실 이 부분이 잘 이해가 안 가는데 plt로 이미지를 띄워보니 shuffling을 수행한 효과가 났음\n",
    "### 에너지를 각 귀퉁이로 모아 줌\n",
    "LPF_shift = np.fft.ifftshift(LPF.copy())\n",
    "HPF_shift = np.fft.ifftshift(HPF.copy())\n",
    "\n",
    "### Log를 씌운 이미지를 FFT해서 LPF와 HPF를 곱해 LF성분과 HF성분을 나눔\n",
    "img_FFT = np.fft.fft2(imgLog.copy(), (M, N))\n",
    "img_LF = np.real(np.fft.ifft2(img_FFT.copy() * LPF_shift, (M, N)))\n",
    "img_HF = np.real(np.fft.ifft2(img_FFT.copy() * HPF_shift, (M, N)))\n",
    "\n",
    "\n",
    "### 각 LF, HF 성분에 scaling factor를 곱해주어 조명값과 반사값을 조절함\n",
    "gamma1 = 0.3\n",
    "gamma2 = 1.5\n",
    "img_adjusting = gamma1*img_LF[0:rows, 0:cols] + gamma2*img_HF[0:rows, 0:cols]\n",
    "\n",
    "### 조정된 데이터를 이제 exp 연산을 통해 이미지로 만들어줌\n",
    "img_exp = np.expm1(img_adjusting) # exp(x) + 1\n",
    "img_exp = (img_exp - np.min(img_exp)) / (np.max(img_exp) - np.min(img_exp)) # 0~1사이로 정규화\n",
    "img_out = np.array(255*img_exp, dtype = 'uint8') # 255를 곱해서 intensity값을 만들어줌"
   ]
  },
  {
   "cell_type": "code",
   "execution_count": 8,
   "metadata": {},
   "outputs": [],
   "source": [
    "### 마지막으로 YUV에서 Y space를 filtering된 이미지로 교체해주고 RGB space로 converting\n",
    "img_YUV[:,:,0] = img_out\n",
    "result = cv2.cvtColor(img_YUV, cv2.COLOR_YUV2BGR)\n",
    "cv2.imshow('homomorphic', result)\n",
    "cv2.waitKey(0)\n",
    "cv2.destroyAllWindows()"
   ]
  },
  {
   "cell_type": "code",
   "execution_count": null,
   "metadata": {},
   "outputs": [],
   "source": []
  }
 ],
 "metadata": {
  "kernelspec": {
   "display_name": "Python 3",
   "language": "python",
   "name": "python3"
  },
  "language_info": {
   "codemirror_mode": {
    "name": "ipython",
    "version": 3
   },
   "file_extension": ".py",
   "mimetype": "text/x-python",
   "name": "python",
   "nbconvert_exporter": "python",
   "pygments_lexer": "ipython3",
   "version": "3.8.3"
  }
 },
 "nbformat": 4,
 "nbformat_minor": 4
}
