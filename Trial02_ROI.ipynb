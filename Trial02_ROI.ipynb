{
 "cells": [
  {
   "cell_type": "markdown",
   "metadata": {},
   "source": [
    "## Trial02 : ROI\n",
    "### 목표: focused image와 blurred image 사이의 수치적인 차이를 구분하기\n",
    "\n",
    "+ 시도1) \n",
    "+ 시도2) "
   ]
  },
  {
   "cell_type": "code",
   "execution_count": 1,
   "metadata": {},
   "outputs": [],
   "source": [
    "# 필요한 라이브러리 import\n",
    "\n",
    "import argparse\n",
    "import math\n",
    "import matplotlib.pyplot as plt\n",
    "import cv2\n",
    "import numpy as np\n",
    "from PIL import Image"
   ]
  },
  {
   "cell_type": "code",
   "execution_count": 2,
   "metadata": {},
   "outputs": [
    {
     "data": {
      "text/plain": [
       "'C:\\\\Users\\\\hannie\\\\Desktop\\\\opencv'"
      ]
     },
     "execution_count": 2,
     "metadata": {},
     "output_type": "execute_result"
    }
   ],
   "source": [
    "# 작업 디렉토리 위치 확인\n",
    "\n",
    "import os \n",
    "os.getcwd()"
   ]
  },
  {
   "cell_type": "code",
   "execution_count": 3,
   "metadata": {},
   "outputs": [],
   "source": [
    "# 함수\n",
    "\n",
    "def im2double(im):\n",
    "\tmin_val = np.min(im.ravel())\n",
    "\tmax_val = np.max(im.ravel())\n",
    "\tout = (im.astype('float') - min_val) / (max_val - min_val)\n",
    "\treturn out\n",
    "\n",
    "\n",
    "def s(x):\n",
    "\ttemp = x>0\n",
    "\treturn temp.astype(float)\n",
    "\n",
    "\n",
    "def lbpCode(im_gray, threshold):\n",
    "\twidth, height = im_gray.shape\n",
    "\tinterpOff = math.sqrt(2)/2\n",
    "\tI = im2double(im_gray)\n",
    "\tpt = cv2.copyMakeBorder(I,1,1,1,1,cv2.BORDER_REPLICATE)\n",
    "\tright = pt[1:-1, 2:]\n",
    "\tleft = pt[1:-1, :-2]\n",
    "\tabove = pt[:-2, 1:-1]\n",
    "\tbelow = pt[2:, 1:-1];\n",
    "\taboveRight = pt[:-2, 2:]\n",
    "\taboveLeft = pt[:-2, :-2]\n",
    "\tbelowRight = pt[2:, 2:]\n",
    "\tbelowLeft = pt[2:, :-2]\n",
    "\tinterp0 = right\n",
    "\tinterp1 = (1-interpOff)*((1-interpOff) * I + interpOff * right) + interpOff *((1-interpOff) * above + interpOff * aboveRight)\n",
    "\n",
    "\tinterp2 = above;\n",
    "\tinterp3 = (1-interpOff)*((1-interpOff) * I + interpOff * left ) + interpOff *((1-interpOff) * above + interpOff * aboveLeft)\n",
    "\n",
    "\tinterp4 = left;\n",
    "\tinterp5 = (1-interpOff)*((1-interpOff) * I + interpOff * left ) + interpOff *((1-interpOff) * below + interpOff * belowLeft)\n",
    "\n",
    "\tinterp6 = below;\n",
    "\tinterp7 = (1-interpOff)*((1-interpOff) * I + interpOff * right ) + interpOff *((1-interpOff) * below + interpOff * belowRight) \n",
    "\n",
    "\ts0 = s(interp0 - I-threshold)\n",
    "\ts1 = s(interp1 - I-threshold)\n",
    "\ts2 = s(interp2 - I-threshold)\n",
    "\ts3 = s(interp3 - I-threshold)\n",
    "\ts4 = s(interp4 - I-threshold)\n",
    "\ts5 = s(interp5 - I-threshold)\n",
    "\ts6 = s(interp6 - I-threshold)\n",
    "\ts7 = s(interp7 - I-threshold)\n",
    "\tLBP81 = s0 * 1 + s1 * 2+s2 * 4   + s3 * 8+ s4 * 16  + s5 * 32  + s6 * 64  + s7 * 128\n",
    "\tLBP81.astype(int)\n",
    "\n",
    "\tU = np.abs(s0 - s7) + np.abs(s1 - s0) + np.abs(s2 - s1) + np.abs(s3 - s2) + np.abs(s4 - s3) + np.abs(s5 - s4) + np.abs(s6 - s5) + np.abs(s7 - s6)\n",
    "\tLBP81riu2 = s0 + s1 + s2 + s3 + s4 + s5 + s6 + s7\n",
    "\tLBP81riu2[U > 2] = 9;\n",
    "\n",
    "\treturn LBP81riu2\n",
    "\n",
    "\n",
    "\n",
    "def lbpSharpness(im_gray, s, threshold):\n",
    "\tlbpmap  = lbpCode(im_gray, threshold)\n",
    "\twindow_r = (s-1)//2;\n",
    "\th, w = im_gray.shape[:2]\n",
    "\tmap =  np.zeros((h, w), dtype=float)\n",
    "\tlbpmap_pad = cv2.copyMakeBorder(lbpmap, window_r, window_r, window_r, window_r, cv2.BORDER_REPLICATE)\n",
    "\n",
    "\tlbpmap_sum = (lbpmap_pad==6).astype(float) + (lbpmap_pad==7).astype(float) + (lbpmap_pad==8).astype(float) + (lbpmap_pad==9).astype(float)\n",
    "\tintegral = cv2.integral(lbpmap_sum);\n",
    "\tintegral = integral.astype(float)\n",
    "\n",
    "\tmap = (integral[s-1:-1, s-1:-1]-integral[0:h, s-1:-1]-integral[s-1:-1, 0:w]+integral[0:h, 0:w])/math.pow(s,2);\n",
    "\n",
    "\treturn map"
   ]
  },
  {
   "cell_type": "markdown",
   "metadata": {},
   "source": [
    " ## rewrite here"
   ]
  },
  {
   "cell_type": "code",
   "execution_count": 7,
   "metadata": {},
   "outputs": [
    {
     "name": "stdout",
     "output_type": "stream",
     "text": [
      "166 48\n",
      "345 401\n"
     ]
    }
   ],
   "source": [
    "img = cv2.imread('out_of_focus0080.jpg',cv2.IMREAD_COLOR) # 사진 크기 640*512에 최적화되어있음.\n",
    "img_gray = cv2.cvtColor(img, cv2.COLOR_BGR2GRAY)\n",
    "        \n",
    "    \n",
    "# threshold가 높을수록 초점이 뚜렷한 부분이 주목됨\n",
    "sharpness_map = lbpSharpness(img_gray, 21, 0.032) # s=21, threshold=0.032\n",
    "sharpness_map = (sharpness_map - np.min(sharpness_map)) / (np.max(sharpness_map - np.min(sharpness_map)))\n",
    "sharpness_map = (sharpness_map * 255).astype(\"uint8\") #uint8\n",
    "lbp = np.stack((sharpness_map,) , -1)\n",
    "\n",
    "# 오츠 알고리즘으로 임계값 설정\n",
    "ret, thresh_otsu = cv2.threshold(lbp, 0, 255, cv2.THRESH_BINARY+cv2.THRESH_OTSU)\n",
    "frame = thresh_otsu\n",
    "\n",
    "im = Image.open('out_of_focus0080.jpg')\n",
    "v,h = im.size\n",
    "x=0; y=0; w=0; z=0; \n",
    "\n",
    "\n",
    "result = False;\n",
    "for j in range(0,h):\n",
    "    for i in range(0,v):\n",
    "        if frame[j,i] == 255:\n",
    "            y = j;\n",
    "            result = True\n",
    "            break\n",
    "    if result==True:\n",
    "        break\n",
    "        \n",
    "result = False;\n",
    "for i in range(0,v):\n",
    "    for j in range(0,h):\n",
    "        if frame[j,i] == 255:\n",
    "            x = i;\n",
    "            result = True\n",
    "            break\n",
    "    if result==True:\n",
    "        break\n",
    "        \n",
    "result = False;\n",
    "for j in reversed(range(h)):\n",
    "    for i in reversed(range(v)):\n",
    "        if frame[j,i] == 255:\n",
    "            z = j;\n",
    "            result = True\n",
    "            break\n",
    "    if result==True:\n",
    "        break\n",
    "\n",
    "result = False;\n",
    "for i in reversed(range(v)):\n",
    "    for j in reversed(range(h)):\n",
    "        if frame[j,i] == 255:\n",
    "            w = i;\n",
    "            result = True\n",
    "            break\n",
    "    if result==True:\n",
    "        break\n",
    "        \n",
    "\n",
    "print(x,y)\n",
    "print(w,z)"
   ]
  },
  {
   "cell_type": "code",
   "execution_count": 11,
   "metadata": {},
   "outputs": [],
   "source": [
    "# 사각형 ROI 만들기\n",
    "\n",
    "cv2.rectangle(img, (x, y), (w, z), (0, 255, 0), 2)\n",
    "together = np.concatenate((img, np.stack((sharpness_map,) * 3, -1)), axis=1)\n",
    "cv2.imshow('output',together)\n",
    "cv2.imshow('threshold',thresh_otsu)\n",
    "\n",
    "cv2.waitKey(0)\n",
    "cv2.destroyAllWindows()"
   ]
  },
  {
   "cell_type": "code",
   "execution_count": 70,
   "metadata": {},
   "outputs": [],
   "source": [
    "# threshold를 127로 설정했을 때의 값\n",
    "\n",
    "cv2.imshow('output',lbp)\n",
    "\n",
    "cv2.waitKey(0)\n",
    "cv2.destroyAllWindows()"
   ]
  },
  {
   "cell_type": "code",
   "execution_count": 72,
   "metadata": {},
   "outputs": [
    {
     "data": {
      "image/png": "[encoded data removed]",
      "text/plain": [
       "<Figure size 432x288 with 2 Axes>"
      ]
     },
     "metadata": {},
     "output_type": "display_data"
    }
   ],
   "source": [
    "# plt로 간단히 확인\n",
    "\n",
    "imgs = { 'Original': img, 'threshold' : thresh_otsu }\n",
    "for i,(key, value) in enumerate(imgs.items()):\n",
    "    plt.subplot(1,2,i+1)\n",
    "    plt.title(key)\n",
    "    plt.imshow(value, cmap = 'gray')\n",
    "    plt.xticks([]); plt.yticks([])\n",
    "    \n",
    "plt.show()\n"
   ]
  },
  {
   "cell_type": "markdown",
   "metadata": {},
   "source": [
    "OTSU algorithm"
   ]
  }
 ],
 "metadata": {
  "kernelspec": {
   "display_name": "Python 3",
   "language": "python",
   "name": "python3"
  },
  "language_info": {
   "codemirror_mode": {
    "name": "ipython",
    "version": 3
   },
   "file_extension": ".py",
   "mimetype": "text/x-python",
   "name": "python",
   "nbconvert_exporter": "python",
   "pygments_lexer": "ipython3",
   "version": "3.8.3"
  }
 },
 "nbformat": 4,
 "nbformat_minor": 4
}
