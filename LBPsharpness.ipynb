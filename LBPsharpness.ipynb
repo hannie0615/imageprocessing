{
 "cells": [
  {
   "cell_type": "code",
   "execution_count": 1,
   "metadata": {},
   "outputs": [],
   "source": [
    "# 라이브러리\n",
    "import argparse\n",
    "import math\n",
    "import cv2\n",
    "import numpy as np\n",
    "\n",
    "# # 인자값을 받을 수 있는 인스턴스 생성\n",
    "# parser = argparse.ArgumentParser(description='create test images from raw dicom')\n",
    "# parser.add_argument('--input', help='input image where you want to compute sharpness map', required=True)\n",
    "# # 입력받은 인자값을 args에 저장\n",
    "# args = vars(parser.parse_args())\n"
   ]
  },
  {
   "cell_type": "code",
   "execution_count": 2,
   "metadata": {},
   "outputs": [],
   "source": [
    "# 함수\n",
    "\n",
    "def im2double(im):\n",
    "    min_val = np.min(im.ravel())\n",
    "    max_val = np.max(im.ravel())\n",
    "    out = (im.astype('float') - min_val) / (max_val - min_val)\n",
    "    return out\n",
    "\n",
    "\n",
    "def s(x):\n",
    "    temp = x>0\n",
    "    return temp.astype(float)\n",
    "\n",
    "\n",
    "def lbpCode(im_gray, threshold):\n",
    "    width, height = im_gray.shape\n",
    "    interpOff = math.sqrt(2)/2\n",
    "    I = im2double(im_gray)\n",
    "    pt = cv2.copyMakeBorder(I,1,1,1,1,cv2.BORDER_REPLICATE)\n",
    "    right = pt[1:-1, 2:]\n",
    "    left = pt[1:-1, :-2]\n",
    "    above = pt[:-2, 1:-1]\n",
    "    below = pt[2:, 1:-1];\n",
    "    aboveRight = pt[:-2, 2:]\n",
    "    aboveLeft = pt[:-2, :-2]\n",
    "    belowRight = pt[2:, 2:]\n",
    "    belowLeft = pt[2:, :-2]\n",
    "    interp0 = right\n",
    "    interp1 = (1-interpOff)*((1-interpOff) * I + interpOff * right) + interpOff *((1-interpOff) * above + interpOff * aboveRight)\n",
    "\n",
    "    interp2 = above;\n",
    "    interp3 = (1-interpOff)*((1-interpOff) * I + interpOff * left ) + interpOff *((1-interpOff) * above + interpOff * aboveLeft)\n",
    "\n",
    "    interp4 = left;\n",
    "    interp5 = (1-interpOff)*((1-interpOff) * I + interpOff * left ) + interpOff *((1-interpOff) * below + interpOff * belowLeft)\n",
    "\n",
    "    interp6 = below;\n",
    "    interp7 = (1-interpOff)*((1-interpOff) * I + interpOff * right ) + interpOff *((1-interpOff) * below + interpOff * belowRight) \n",
    "\n",
    "    s0 = s(interp0 - I-threshold)\n",
    "    s1 = s(interp1 - I-threshold)\n",
    "    s2 = s(interp2 - I-threshold)\n",
    "    s3 = s(interp3 - I-threshold)\n",
    "    s4 = s(interp4 - I-threshold)\n",
    "    s5 = s(interp5 - I-threshold)\n",
    "    s6 = s(interp6 - I-threshold)\n",
    "    s7 = s(interp7 - I-threshold)\n",
    "    LBP81 = s0 * 1 + s1 * 2+s2 * 4   + s3 * 8+ s4 * 16  + s5 * 32  + s6 * 64  + s7 * 128\n",
    "    LBP81.astype(int)\n",
    "\n",
    "    U = np.abs(s0 - s7) + np.abs(s1 - s0) + np.abs(s2 - s1) + np.abs(s3 - s2) + np.abs(s4 - s3) + np.abs(s5 - s4) + np.abs(s6 - s5) + np.abs(s7 - s6)\n",
    "    LBP81riu2 = s0 + s1 + s2 + s3 + s4 + s5 + s6 + s7\n",
    "    LBP81riu2[U > 2] = 9;\n",
    "\n",
    "    return LBP81riu2\n",
    "\n",
    "\n",
    "\n",
    "def lbpSharpness(im_gray, s, threshold):\n",
    "    lbpmap  = lbpCode(im_gray, threshold)\n",
    "    window_r = (s-1)//2;\n",
    "    h, w = im_gray.shape[:2]\n",
    "    map =  np.zeros((h, w), dtype=float)\n",
    "    lbpmap_pad = cv2.copyMakeBorder(lbpmap, window_r, window_r, window_r, window_r, cv2.BORDER_REPLICATE)\n",
    "\n",
    "    lbpmap_sum = (lbpmap_pad==6).astype(float) + (lbpmap_pad==7).astype(float) + (lbpmap_pad==8).astype(float) + (lbpmap_pad==9).astype(float)\n",
    "    integral = cv2.integral(lbpmap_sum);\n",
    "    integral = integral.astype(float)\n",
    "\n",
    "    map = (integral[s-1:-1, s-1:-1]-integral[0:h, s-1:-1]-integral[s-1:-1, 0:w]+integral[0:h, 0:w])/math.pow(s,2);\n",
    "\n",
    "    return map"
   ]
  },
  {
   "cell_type": "markdown",
   "metadata": {},
   "source": [
    "### 실행1 s=21, threshold=0.032"
   ]
  },
  {
   "cell_type": "code",
   "execution_count": 20,
   "metadata": {},
   "outputs": [],
   "source": [
    "# 실행1 s=21, threshold=0.032\n",
    "\n",
    "if __name__=='__main__':\n",
    "\n",
    "    img = cv2.imread('out_of_focus0011.jpg',cv2.IMREAD_COLOR) # 사진 크기 640*512에 최적화되어있음.\n",
    "    img_gray = cv2.cvtColor(img, cv2.COLOR_BGR2GRAY)\n",
    "        \n",
    "# threshold가 높을수록 초점이 뚜렷한 부분이 주목됨\n",
    "    sharpness_map = lbpSharpness(img_gray, 21, 0.032) # s=21, threshold=0.032\n",
    "    sharpness_map = (sharpness_map - np.min(sharpness_map)) / (np.max(sharpness_map - np.min(sharpness_map)))\n",
    "\n",
    "    sharpness_map = (sharpness_map * 255).astype(\"uint8\") #uint8\n",
    "    concat = np.concatenate((img, np.stack((sharpness_map,) * 3, -1)), axis=1)\n",
    "    cv2.imshow('concat', concat)\n",
    "\n",
    "    cv2.waitKey(0)\n",
    "    cv2.destroyAllWindows()\n",
    "    "
   ]
  },
  {
   "cell_type": "markdown",
   "metadata": {},
   "source": [
    "### 실행2 s=21, threshold=0.016"
   ]
  },
  {
   "cell_type": "code",
   "execution_count": 21,
   "metadata": {},
   "outputs": [],
   "source": [
    "# 실행2 s=21, threshold=0.016\n",
    "\n",
    "if __name__=='__main__':\n",
    "\n",
    "\timg = cv2.imread('out_of_focus0011.jpg',cv2.IMREAD_COLOR) # 사진 크기 640*512에 최적화되어있음.\n",
    "\timg_gray = cv2.cvtColor(img, cv2.COLOR_BGR2GRAY)\n",
    "        \n",
    "# threshold가 높을수록 초점이 뚜렷한 부분이 주목됨\n",
    "\tsharpness_map = lbpSharpness(img_gray, 21, 0.016) # s=21, threshold=0.016\n",
    "\tsharpness_map = (sharpness_map - np.min(sharpness_map)) / (np.max(sharpness_map - np.min(sharpness_map)))\n",
    "\n",
    "\tsharpness_map = (sharpness_map * 255).astype(\"uint8\") #uint8\n",
    "\tconcat = np.concatenate((img, np.stack((sharpness_map,) * 3, -1)), axis=1)\n",
    "\tcv2.imshow('concat', concat)\n",
    "\n",
    "\tcv2.waitKey(0)\n",
    "\tcv2.destroyAllWindows()\n",
    "    "
   ]
  },
  {
   "cell_type": "markdown",
   "metadata": {},
   "source": [
    "### 실행3 s=27, threshold=0.016"
   ]
  },
  {
   "cell_type": "code",
   "execution_count": 19,
   "metadata": {},
   "outputs": [],
   "source": [
    "# 실행3 s=27, threshold=0.016\n",
    "\n",
    "if __name__=='__main__':\n",
    "\n",
    "    img = cv2.imread('out_of_focus0011.jpg',cv2.IMREAD_COLOR) # 사진 크기 640*512에 최적화되어있음.\n",
    "    img_gray = cv2.cvtColor(img, cv2.COLOR_BGR2GRAY)\n",
    "        \n",
    "# threshold가 높을수록 초점이 뚜렷한 부분이 주목됨\n",
    "    sharpness_map = lbpSharpness(img_gray, 27, 0.016) # s=27, threshold=0.032\n",
    "    sharpness_map = (sharpness_map - np.min(sharpness_map)) / (np.max(sharpness_map - np.min(sharpness_map)))\n",
    "\n",
    "    sharpness_map = (sharpness_map * 255).astype(\"uint8\") #uint8\n",
    "    concat = np.concatenate((img, np.stack((sharpness_map,) * 3, -1)), axis=1)\n",
    "    cv2.imshow('concat', concat)\n",
    "\n",
    "    cv2.waitKey(0)\n",
    "    cv2.destroyAllWindows()\n",
    "    "
   ]
  },
  {
   "cell_type": "code",
   "execution_count": null,
   "metadata": {},
   "outputs": [],
   "source": []
  }
 ],
 "metadata": {
  "kernelspec": {
   "display_name": "Python 3",
   "language": "python",
   "name": "python3"
  },
  "language_info": {
   "codemirror_mode": {
    "name": "ipython",
    "version": 3
   },
   "file_extension": ".py",
   "mimetype": "text/x-python",
   "name": "python",
   "nbconvert_exporter": "python",
   "pygments_lexer": "ipython3",
   "version": "3.8.3"
  }
 },
 "nbformat": 4,
 "nbformat_minor": 4
}
